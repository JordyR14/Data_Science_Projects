{
 "cells": [
  {
   "cell_type": "raw",
   "id": "ec56318a-fd19-452e-b5c7-aa46e9bc3b9f",
   "metadata": {},
   "source": [
    "LESSON 3 PYTHON FOR PREPROCESSING & CLEANSING DATA"
   ]
  },
  {
   "cell_type": "code",
   "execution_count": 1,
   "id": "377ac5d0-1d74-4060-83bf-b8fe57654c0a",
   "metadata": {},
   "outputs": [
    {
     "name": "stdout",
     "output_type": "stream",
     "text": [
      "Original Data:\n",
      "    Age   Income Gender Loan_Status\n",
      "0  25.0  50000.0      M    Approved\n",
      "1  30.0  60000.0      F    Rejected\n",
      "2   NaN  75000.0      M    Approved\n",
      "3  35.0      NaN      F    Approved\n",
      "4  28.0  55000.0      M    Rejected\n",
      "\n",
      "Missing Data replaced with mean:\n",
      "    Age   Income Gender Loan_Status\n",
      "0  25.0  50000.0      M    Approved\n",
      "1  30.0  60000.0      F    Rejected\n",
      "2  29.5  75000.0      M    Approved\n",
      "3  35.0  60000.0      F    Approved\n",
      "4  28.0  55000.0      M    Rejected\n",
      "\n",
      "1-hot encoding categorical data:\n",
      "    Age   Income  Gender  Loan_Status\n",
      "0  25.0  50000.0       1            0\n",
      "1  30.0  60000.0       0            1\n",
      "2  29.5  75000.0       1            0\n",
      "3  35.0  60000.0       0            0\n",
      "4  28.0  55000.0       1            1\n",
      "\n",
      "Scaling numerical features using StandardScaler:\n",
      "        Age    Income  Gender  Loan_Status\n",
      "0 -1.382164 -1.195229       1            0\n",
      "1  0.153574  0.000000       0            1\n",
      "2  0.000000  1.792843       1            0\n",
      "3  1.689312  0.000000       0            0\n",
      "4 -0.460721 -0.597614       1            1\n"
     ]
    }
   ],
   "source": [
    "# Import necessary libraries\n",
    "import pandas as pd\n",
    "from sklearn.preprocessing import StandardScaler, LabelEncoder\n",
    "from sklearn.impute import SimpleImputer\n",
    "\n",
    "# Sample data\n",
    "data = pd.DataFrame({\n",
    "    'Age': [25, 30, None, 35, 28],\n",
    "    'Income': [50000, 60000, 75000, None, 55000],\n",
    "    'Gender': ['M', 'F', 'M', 'F', 'M'],\n",
    "    'Loan_Status': ['Approved', 'Rejected', 'Approved', 'Approved', 'Rejected']\n",
    "})\n",
    "\n",
    "print(\"Original Data:\")\n",
    "print(data)\n",
    "\n",
    "# Handling missing values with mean imputation\n",
    "imputer = SimpleImputer(strategy='mean')\n",
    "data[['Age','Income']] = imputer.fit_transform(data[['Age','Income']])\n",
    "\n",
    "print(\"\\nMissing Data replaced with mean:\")\n",
    "print(data)\n",
    "\n",
    "# Encoding categorical variables (Gender and Loan_Status)\n",
    "le = LabelEncoder()\n",
    "data['Gender'] = le.fit_transform(data['Gender'])\n",
    "data['Loan_Status'] = le.fit_transform(data['Loan_Status'])\n",
    "\n",
    "print(\"\\n1-hot encoding categorical data:\")\n",
    "print(data)\n",
    "\n",
    "# Scaling numerical features (Age and Income) using StandardScaler\n",
    "scaler = StandardScaler()\n",
    "data[['Age', 'Income']] = scaler.fit_transform(data[['Age', 'Income']])\n",
    "\n",
    "# Display the preprocessed and cleansed data\n",
    "print(\"\\nScaling numerical features using StandardScaler:\")\n",
    "print(data)"
   ]
  }
 ],
 "metadata": {
  "kernelspec": {
   "display_name": "Python 3 (ipykernel)",
   "language": "python",
   "name": "python3"
  },
  "language_info": {
   "codemirror_mode": {
    "name": "ipython",
    "version": 3
   },
   "file_extension": ".py",
   "mimetype": "text/x-python",
   "name": "python",
   "nbconvert_exporter": "python",
   "pygments_lexer": "ipython3",
   "version": "3.11.7"
  }
 },
 "nbformat": 4,
 "nbformat_minor": 5
}
